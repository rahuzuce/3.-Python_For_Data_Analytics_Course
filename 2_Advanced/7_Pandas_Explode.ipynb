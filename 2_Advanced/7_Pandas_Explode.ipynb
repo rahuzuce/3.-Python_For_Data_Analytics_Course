{
 "cells": [
  {
   "cell_type": "markdown",
   "id": "fac5f803",
   "metadata": {},
   "source": [
    "# Load and clean data"
   ]
  },
  {
   "cell_type": "code",
   "execution_count": 3,
   "id": "9251686c",
   "metadata": {},
   "outputs": [],
   "source": [
    "# Import necessary libraries\n",
    "import pandas as pd\n",
    "from datasets import load_dataset\n",
    "import matplotlib.pyplot as plt\n",
    "import ast\n",
    "\n",
    "# Load the dataset from Hugging Face \n",
    "dataset = load_dataset(\"lukebarousse/data_jobs\")\n",
    "df = dataset['train'].to_pandas()\n",
    "\n",
    "# Clean up the 'job_posted_date' column by converting it to datetime\n",
    "df['job_posted_date'] = pd.to_datetime(df['job_posted_date'], errors='coerce')\n",
    "df['job_skills'] = df['job_skills'].apply(lambda x: ast.literal_eval(x) if isinstance(x, str) else x)"
   ]
  },
  {
   "cell_type": "markdown",
   "id": "d804cafe",
   "metadata": {},
   "source": [
    "# Explode()"
   ]
  },
  {
   "cell_type": "code",
   "execution_count": 19,
   "id": "9c25120f",
   "metadata": {},
   "outputs": [],
   "source": [
    "df_exploded = df.explode('job_skills')"
   ]
  },
  {
   "cell_type": "code",
   "execution_count": 34,
   "id": "4cfc2f76",
   "metadata": {},
   "outputs": [
    {
     "data": {
      "text/html": [
       "<div>\n",
       "<style scoped>\n",
       "    .dataframe tbody tr th:only-of-type {\n",
       "        vertical-align: middle;\n",
       "    }\n",
       "\n",
       "    .dataframe tbody tr th {\n",
       "        vertical-align: top;\n",
       "    }\n",
       "\n",
       "    .dataframe thead th {\n",
       "        text-align: right;\n",
       "    }\n",
       "</style>\n",
       "<table border=\"1\" class=\"dataframe\">\n",
       "  <thead>\n",
       "    <tr style=\"text-align: right;\">\n",
       "      <th></th>\n",
       "      <th>job_title_short</th>\n",
       "      <th>job_skills</th>\n",
       "      <th>count</th>\n",
       "    </tr>\n",
       "  </thead>\n",
       "  <tbody>\n",
       "    <tr>\n",
       "      <th>1066</th>\n",
       "      <td>Data Scientist</td>\n",
       "      <td>python</td>\n",
       "      <td>113711</td>\n",
       "    </tr>\n",
       "    <tr>\n",
       "      <th>865</th>\n",
       "      <td>Data Engineer</td>\n",
       "      <td>sql</td>\n",
       "      <td>113130</td>\n",
       "    </tr>\n",
       "    <tr>\n",
       "      <th>830</th>\n",
       "      <td>Data Engineer</td>\n",
       "      <td>python</td>\n",
       "      <td>108022</td>\n",
       "    </tr>\n",
       "    <tr>\n",
       "      <th>625</th>\n",
       "      <td>Data Analyst</td>\n",
       "      <td>sql</td>\n",
       "      <td>92428</td>\n",
       "    </tr>\n",
       "    <tr>\n",
       "      <th>1101</th>\n",
       "      <td>Data Scientist</td>\n",
       "      <td>sql</td>\n",
       "      <td>78982</td>\n",
       "    </tr>\n",
       "    <tr>\n",
       "      <th>...</th>\n",
       "      <td>...</td>\n",
       "      <td>...</td>\n",
       "      <td>...</td>\n",
       "    </tr>\n",
       "    <tr>\n",
       "      <th>266</th>\n",
       "      <td>Cloud Engineer</td>\n",
       "      <td>delphi</td>\n",
       "      <td>1</td>\n",
       "    </tr>\n",
       "    <tr>\n",
       "      <th>1920</th>\n",
       "      <td>Senior Data Scientist</td>\n",
       "      <td>objective-c</td>\n",
       "      <td>1</td>\n",
       "    </tr>\n",
       "    <tr>\n",
       "      <th>1400</th>\n",
       "      <td>Senior Data Analyst</td>\n",
       "      <td>couchdb</td>\n",
       "      <td>1</td>\n",
       "    </tr>\n",
       "    <tr>\n",
       "      <th>298</th>\n",
       "      <td>Cloud Engineer</td>\n",
       "      <td>haskell</td>\n",
       "      <td>1</td>\n",
       "    </tr>\n",
       "    <tr>\n",
       "      <th>631</th>\n",
       "      <td>Data Analyst</td>\n",
       "      <td>suse</td>\n",
       "      <td>1</td>\n",
       "    </tr>\n",
       "  </tbody>\n",
       "</table>\n",
       "<p>2256 rows × 3 columns</p>\n",
       "</div>"
      ],
      "text/plain": [
       "            job_title_short   job_skills   count\n",
       "1066         Data Scientist       python  113711\n",
       "865           Data Engineer          sql  113130\n",
       "830           Data Engineer       python  108022\n",
       "625            Data Analyst          sql   92428\n",
       "1101         Data Scientist          sql   78982\n",
       "...                     ...          ...     ...\n",
       "266          Cloud Engineer       delphi       1\n",
       "1920  Senior Data Scientist  objective-c       1\n",
       "1400    Senior Data Analyst      couchdb       1\n",
       "298          Cloud Engineer      haskell       1\n",
       "631            Data Analyst         suse       1\n",
       "\n",
       "[2256 rows x 3 columns]"
      ]
     },
     "execution_count": 34,
     "metadata": {},
     "output_type": "execute_result"
    }
   ],
   "source": [
    "df_skills_count = (\n",
    "    df_exploded\n",
    "    .groupby(['job_title_short', 'job_skills'])\n",
    "    .size()\n",
    "    .reset_index(name='count')\n",
    "    .sort_values(by='count', ascending=False)\n",
    ")\n",
    "df_skills_count"
   ]
  },
  {
   "cell_type": "markdown",
   "id": "99a822f6",
   "metadata": {},
   "source": [
    "# Dynamic Selection of Skills"
   ]
  },
  {
   "cell_type": "code",
   "execution_count": 53,
   "id": "12e1e292",
   "metadata": {},
   "outputs": [
    {
     "data": {
      "image/png": "[encoded data removed]",
      "text/plain": [
       "<Figure size 1000x600 with 1 Axes>"
      ]
     },
     "metadata": {},
     "output_type": "display_data"
    }
   ],
   "source": [
    "# Define variables for job title and number of top skills to display\n",
    "job_title_short = 'Data Scientist'  # Change this to the desired job title\n",
    "num_top_skills = 10  # Change this to the desired number of top skills\n",
    "\n",
    "# Filter the exploded DataFrame for the selected job title\n",
    "filtered_data = df_skills_count[df_skills_count['job_title_short'] == job_title_short].head(num_top_skills)\n",
    "\n",
    "# Plot the top skills\n",
    "filtered_data.plot(kind='barh', x='job_skills', y='count', legend=False, figsize=(10, 6), color='skyblue')\n",
    "plt.title(f'Top {num_top_skills} Skills for {job_title_short}')\n",
    "plt.xlabel('Count')\n",
    "plt.ylabel('')\n",
    "plt.gca().invert_yaxis()  # Invert the Y-axis to have the top skill at the top\n",
    "plt.tight_layout()\n",
    "plt.show()"
   ]
  }
 ],
 "metadata": {
  "kernelspec": {
   "display_name": "python_course",
   "language": "python",
   "name": "python3"
  },
  "language_info": {
   "codemirror_mode": {
    "name": "ipython",
    "version": 3
   },
   "file_extension": ".py",
   "mimetype": "text/x-python",
   "name": "python",
   "nbconvert_exporter": "python",
   "pygments_lexer": "ipython3",
   "version": "3.12.9"
  }
 },
 "nbformat": 4,
 "nbformat_minor": 5
}
